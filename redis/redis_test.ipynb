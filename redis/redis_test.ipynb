{
 "cells": [
  {
   "cell_type": "code",
   "execution_count": 23,
   "metadata": {},
   "outputs": [],
   "source": [
    "import aioredis as redis\n",
    "import uuid\n",
    "import json\n",
    "redis = await redis.from_url('redis://localhost:6379')"
   ]
  },
  {
   "cell_type": "code",
   "execution_count": null,
   "metadata": {},
   "outputs": [],
   "source": [
    "def _generate_session_id():\n",
    "    return str(uuid.uuid4())"
   ]
  },
  {
   "cell_type": "code",
   "execution_count": 41,
   "metadata": {},
   "outputs": [
    {
     "data": {
      "text/plain": [
       "True"
      ]
     },
     "execution_count": 41,
     "metadata": {},
     "output_type": "execute_result"
    }
   ],
   "source": [
    "config = {\n",
    "    \"key\": \"value\",\n",
    "    \"value\": \"key\"\n",
    "    }\n",
    "await redis.set('session_id', json.dumps(config))\n"
   ]
  },
  {
   "cell_type": "code",
   "execution_count": 45,
   "metadata": {},
   "outputs": [],
   "source": [
    "updated_config = {\n",
    "    \"key3\": \"value2\"\n",
    "}\n",
    "async def update_config(session_id, updated_config):\n",
    "    config = await redis.get(session_id)\n",
    "    config = json.loads(config)\n",
    "    config.update(updated_config)\n",
    "    await redis.set(session_id, json.dumps(config))\n",
    "\n",
    "await update_config('session_id', updated_config)"
   ]
  },
  {
   "cell_type": "code",
   "execution_count": 46,
   "metadata": {},
   "outputs": [
    {
     "name": "stdout",
     "output_type": "stream",
     "text": [
      "b'{\"key\": \"value2\", \"value\": \"key\", \"key3\": \"value2\"}'\n",
      "value2\n",
      "value2\n"
     ]
    }
   ],
   "source": [
    "config = await redis.get('session_id')\n",
    "print(config)\n",
    "dict_config = json.loads(config)\n",
    "print(dict_config[\"key\"])\n",
    "print(dict_config.get(\"key\"))"
   ]
  }
 ],
 "metadata": {
  "kernelspec": {
   "display_name": "Python 3",
   "language": "python",
   "name": "python3"
  },
  "language_info": {
   "codemirror_mode": {
    "name": "ipython",
    "version": 3
   },
   "file_extension": ".py",
   "mimetype": "text/x-python",
   "name": "python",
   "nbconvert_exporter": "python",
   "pygments_lexer": "ipython3",
   "version": "3.10.6"
  },
  "orig_nbformat": 4
 },
 "nbformat": 4,
 "nbformat_minor": 2
}
