{
 "cells": [
  {
   "cell_type": "code",
   "execution_count": 3,
   "metadata": {},
   "outputs": [],
   "source": [
    "import os\n",
    "from pprint import pprint\n",
    "from urllib.parse import urljoin\n",
    "\n",
    "import requests\n",
    "from bs4 import BeautifulSoup"
   ]
  },
  {
   "cell_type": "code",
   "execution_count": 4,
   "metadata": {},
   "outputs": [],
   "source": [
    "url = 'https://leafwell.com/blog/marijuana-and-bodybuilding/'\n",
    "response = requests.get(url)\n",
    "soup = BeautifulSoup(response.content, 'html.parser')\n",
    "\n",
    "    # Modify the CSS selector as per your requirements to extract the right content\n",
    "    # If soup.select_one('.text-current') returns None, then the content is not found\n",
    "\n",
    "   "
   ]
  },
  {
   "cell_type": "code",
   "execution_count": 14,
   "metadata": {},
   "outputs": [],
   "source": [
    "# Extract content from elements with the class 'my_class'\n",
    "elements = soup.select('.text-current:not(.text-sm)')"
   ]
  },
  {
   "cell_type": "code",
   "execution_count": 15,
   "metadata": {},
   "outputs": [
    {
     "name": "stdout",
     "output_type": "stream",
     "text": [
      "Found elements:  1 \n",
      "\n",
      "\n",
      "[<section class=\"prose lg:prose-lg font-sans text-current\"><p>Bodybuilding can be grueling and arduous. Apart from training aggressively and maintaining a strict diet, bodybuilders may also experience mental challenges like stress, anxiety, lack of motivation, and the pressure of competition.</p><p>Cannabis is known to be a stress reliever, so if you’re a bodybuilder, you might wonder whether incorporating cannabis into your workout routine can <a href=\"https://leafwell.com/blog/best-strains-for-working-out/\">enhance the overall experience</a>.</p><p>According to anecdotal evidence, <a href=\"https://leafwell.com/blog/cannabinoids/\">cannabinoids</a> like CBD and THC help with muscle recovery. They also act as remarkable painkillers, providing relief from soreness and <a href=\"https://leafwell.com/medical-conditions/muscle-spasms/\">muscle spasms</a>. But can marijuana help grow your muscles, too?</p><section class=\"w-full px-5 lg:px-10 grid gap-y-10 lg:gap-y-12 mx-auto py-10 md:py-12 max-w-screen-lg lg:px-0 not-prose sm:grid-cols-3 sm:gap-x-2 gap-y-2.5\"><div class=\"col-span-3 sm:col-span-2 grid grid-cols-6 px-10 rounded-xl bg-lilac-300\"><div class=\"col-span-6 py-7\"><div class=\"flex items-center mb-2\"><h2 class=\"mt-0 text-xl md:text-2xl font-medium\">Personalized Cannabis Guidance</h2></div><div class=\"mb-8\">Meet with a counselor and get personalized guidance to the right types and doses of cannabis for your unique needs.</div><a class=\"relative select-none cursor-pointer inline-grid gap-x-2 grid-flow-col items-center justify-center text-center text-sm font-heading transition-colors focus:outline-none outline-none cursor-pointer leading-none border rounded-md min-h-50 py-3 px-6 bg-white border-white hover:border-green hover:bg-green hover:text-black\" href=\"https://leafwell.com/cannabis-counseling/\"><span class=\"transition-opacity\">Book Appointment</span><span aria-hidden=\"true\" class=\"pointer-events-none transition-opacity absolute transform -translate-y-1/2 inset-1/2 -translate-x-1/2 h-5 w-5 opacity-0\"><div class=\"lds-ring\"><div></div><div></div><div></div><div></div></div></span></a></div></div><figure class=\"relative overflow-hidden order-first col-span-3 sm:col-span-1 rounded-2xl\"><img alt=\"\" class=\"w-full h-auto\" height=\"100%\" loading=\"lazy\" src=\"https://admin.leafwell.com/app/uploads/2023/05/counselor-cannacon.jpg\" srcset=\"https://b2628119.smushcdn.com/2628119/app/uploads/2023/05/counselor-cannacon-320x400.jpg?lossy=1&amp;strip=1&amp;webp=1 320w, https://b2628119.smushcdn.com/2628119/app/uploads/2023/05/counselor-cannacon.jpg?size=384x481&amp;lossy=1&amp;strip=1&amp;webp=1 384w, https://b2628119.smushcdn.com/2628119/app/uploads/2023/05/counselor-cannacon-559x700.jpg?lossy=1&amp;strip=1&amp;webp=1 559w, https://b2628119.smushcdn.com/2628119/app/uploads/2023/05/counselor-cannacon.jpg?lossy=1&amp;strip=1&amp;webp=1 639w\" width=\"100%\"/></figure></section><h2 id=\"cannabis-101\">Cannabis 101</h2><p>First, the basics: Cannabis is a herb that has been used throughout centuries for spiritual and medicinal purposes. The plant <a href=\"https://www.ncbi.nlm.nih.gov/pmc/articles/PMC7605027/\" rel=\"noopener\" target=\"_blank\">originated in central Asia</a>, but today is grown all over the world.</p><p>Marijuana contains psychoactive properties, meaning it affects brain function. This could include everything from mood, thoughts, <a href=\"https://leafwell.com/blog/how-does-weed-affect-you-emotionally/\">emotions</a>, and behavior. This explains why we feel “high” when we use cannabis products, especially ones <a href=\"https://leafwell.com/blog/what-is-considered-high-thc/\">high in THC</a>.</p><p>This high is possible due to the <a href=\"https://leafwell.com/blog/endocannabinoid-system/\">endocannabinoid system (ECS)</a>, which is a vast network of chemical signals and <a href=\"https://leafwell.com/blog/cannabinoid-receptors/\">cannabinoid receptors</a> that exist in our bodies. The ECS is responsible for regulating things like sleep, pain, temperature, and immune responses.</p><p>When we smoke or <a href=\"https://leafwell.com/blog/what-cannabis-edibles/\">ingest cannabis</a>, cannabinoids such as THC are thought to interact with the ECS and generate feelings like euphoria, sedation, and hunger. Because the ECS affects so many parts of the body, it explains why using cannabis can also offer relief from medical issues like pain, <a href=\"https://leafwell.com/medical-conditions/insomnia/\">insomnia</a>, and inflammation.</p><div class=\"tc pa-xxl pv-xl mb-xxl bg-grey-lighter\"><h6>Download Free Guide to the ECS</h6><div class=\"leafwell-hubspot-form\" data-form-id=\"a2955b99-a044-46e4-92ab-31ac5d607d2b\" data-portal-id=\"7790175\" data-wp-hubspot-form=\"\" id=\"hbspt-form-1689042080000-0048118519\"></div></div><h2 id=\"the-effects-of-marijuana-on-bodybuilding\">The Effects of Marijuana on Bodybuilding</h2><p>Bodybuilding is the act and practice of enhancing one’s physique through heavy lifting and strict diets to achieve toned, well-defined muscles.</p><p>Nutrition is crucial because the health of your mind and body depends almost entirely on <a href=\"https://www.ncbi.nlm.nih.gov/pmc/articles/PMC7353309/\">what you eat</a>. This is why bodybuilders are so vigilant about what they put in their bodies. That’s also why some may be conflicted about marijuana and if it will help or hamper their progress in the gym. Here’s what we know so far.</p><h3>Weed and Muscle Growth</h3><p>Cannabis consumption doesn’t seem to have a direct effect on muscle growth. However, it may influence factors — like appetite and hormones — that may affect your bodybuilding journey.</p><p>In order to experience hypertrophy (aka muscle growth), you have to follow a lifting program that emphasizes the progressive overload of all muscle groups, eat in a slight surplus while prioritizing protein intake, and focus on adequate rest and recovery. Cannabis may help a bodybuilder achieve those goals by increasing appetite and assisting in sleep and muscle recovery, which, in turn, may help increase the size of your muscles.</p><h3>Weed and Testosterone</h3><p>As we mentioned, the endocannabinoid system regulates many body processes, including <a href=\"https://leafwell.com/blog/effect-cannabis-hormones/\">testosterone production</a>. This is essential in sports performance as testosterone is a hormone crucial in building muscle mass.</p><p>There aren’t many human studies that have looked into the effects of cannabis on testosterone.</p><p>However, <a href=\"https://pubmed.ncbi.nlm.nih.gov/28395129/#:~:text=Marijuana%20has%20been%20reported%20to,testosterone%20concentrations%20among%20marijuana%20users.\" rel=\"noopener\" target=\"_blank\">one study suggests</a> that cannabis use may increase testosterone levels in adult males. The study also found men who used cannabis more recently had higher blood plasma testosterone levels.</p><h3>Weed and Appetite</h3><p>What we put in our bodies determines how we look and feel, making appetite an important part of muscle growth.</p><p>If you’ve tried marijuana before, you might be aware that <a href=\"https://leafwell.com/blog/why-does-weed-make-you-hungry/\">it makes you hungry</a>. Depending on the dose and strain, cannabis can play a huge role in appetite by enhancing food cravings and feelings of hunger.</p><p>Whether you’re training for a bodybuilding competition or simply looking to enhance your physique, you need to eat to grow. This can be done by eating in a surplus (i.e., a “bulk” or purposeful weight gain) or by eating at or around maintenance (i.e., a “body recomp,” though this is a slower process). Marijuana use can help <a href=\"https://leafwell.com/blog/best-strains-for-appetite/\">keep your appetite up</a>, ultimately helping your muscles increase in size.</p><h3>Weed and Performance</h3><p>The jury is still out on whether marijuana boosts athletic performance. Some people believe the plant elicits negative effects and makes athletes lazy, reduces reaction time, and causes fatigue. Others, like many professional sporting leagues, have labeled cannabis as a performance-enhancing drug that should be kept out of competitive sports.</p><p>Weed might not help a bodybuilder lift more or build muscle mass, but the plant has been shown to alleviate muscle spasms, muscle pain and inflammation, and soreness. Marijuana may also aid in <a href=\"https://leafwell.com/blog/what-happens-when-you-sleep-high/\">falling and staying asleep</a>. Combined, these therapeutic effects facilitate muscle healing and recovery after training.</p><h3>Weed and Inflammation</h3><p>Inflammation is a natural phenomenon. When we work out, we injure our muscles, and when our body repairs them, they strengthen. As muscle cells break down, they generate waste materials that are flushed out through our body’s inflammatory response.</p><p>Inflammation increases blood flow to affected areas, providing muscles with the oxygen and energy needed to repair themselves. While inflammation has benefits, it’s also why we experience pain sensations called “DOMS” (or delayed onset muscle soreness) after an intense workout.</p><p>Thankfully, CBD found in cannabis products is known to have <a href=\"https://leafwell.com/medical-conditions/inflammation/\">anti-inflammatory properties</a>, making it ideal for exercise-related pain relief.</p><h2 id=\"the-bottom-line-should-bodybuilders-use-cannabis\">The Bottom Line: Should Bodybuilders Use Cannabis?</h2><p>As you can see, there are a lot of potential benefits for bodybuilders who use marijuana, including increased appetite, reduced muscle spasms, and <a href=\"https://leafwell.com/blog/why-medical-marijuana-works-for-pain/\">pain relief</a>.</p><p>Many athletes also find it to be a handy tool for muscle recovery due to its anti-inflammatory effects. It may also help motivate you to stay consistent in the gym. <a href=\"https://www.frontiersin.org/articles/10.3389/fpubh.2019.00099/full\" rel=\"noopener\" target=\"_blank\">Some research</a> suggests that regular users of cannabis are prone to exercise more than those who don’t use the plant. So, while studies don’t show that cannabis increases exercise performance or exercise capacity, there does seem to be some correlation between marijuana usage and more motivation to hit the gym.</p><p>Future research is needed for the scientific community to really solidify the beneficial effects cannabis may have on bodybuilders, professional athletes, and sport performance as a whole.</p><p>In the meantime, if you’re unsure whether marijuana will work for you, talk to your bodybuilding coach about it. They may recommend marijuana use during your bulk to increase appetite, as you focus solely on muscle building, and discourage it during your cut, as you’ll be in a caloric deficit, making the munchies even more enticing. You can also consult with a cannabis doctor and have them explain how the plant can impact your bodybuilding journey in the short term and in the long term.</p><article class=\"rounded-2xl grid gap-3 border p-6 gap-6 md:p-10 md:gap-10 border-lilac-50 bg-lilac-50 leafwell-card-cta md:gap-x-10 xl:gap-x-16 md:items-center md:content-center md:grid-cols-2 md:mt-12 md:!gap-x-3 md:!pr-4 mb-6 not-prose\"><div class=\"grid gap-y-3\"><h2 class=\"font-heading text-3xl sm:text-4xl leading-tight font-sans my-reset prose\">Get Your Medical Card</h2><p class=\"font-sans prose my-reset\">Connect with a licensed physician online in minutes.</p><section class=\"self-start grid gap-y-3\"><form class=\"grid sm:self-start gap-x-3 sm:grid-cols-inline-form sm:justify-between sm:max-w-md gap-y-2\" novalidate=\"\"><div class=\"grid gap-y-3\"><label class=\"prose sr-only font-heading text-base leading-tight col-span-full\" for=\"stateCode-9i4yzds-1689042081934\">State</label><div class=\"relative\"><select aria-invalid=\"false\" class=\"bg-white placeholder-gray-600 appearance-none border rounded outline-none focus:outline-none transition-colors border-gray-400 secondary:border-indigo-200 focus:border-green focus:secondary:border-indigo-500 w-full p-3 bg-no-repeat bg-input-position bg-select bg-input-size overflow-ellipsis pl-10\" id=\"stateCode-9i4yzds-1689042081934\" name=\"stateCode\"><option disabled=\"\" hidden=\"\" selected=\"\" value=\"\">Select State</option><option value=\"AL\">Alabama</option><option value=\"AK\">Alaska</option><option value=\"AS\">American Samoa</option><option value=\"AZ\">Arizona</option><option value=\"AR\">Arkansas</option><option value=\"CA\">California</option><option value=\"CO\">Colorado</option><option value=\"CT\">Connecticut</option><option value=\"DE\">Delaware</option><option value=\"FL\">Florida</option><option value=\"GA\">Georgia</option><option value=\"GU\">Guam</option><option value=\"HI\">Hawaii</option><option value=\"ID\">Idaho</option><option value=\"IL\">Illinois</option><option value=\"IN\">Indiana</option><option value=\"IA\">Iowa</option><option value=\"KS\">Kansas</option><option value=\"KY\">Kentucky</option><option value=\"LA\">Louisiana</option><option value=\"ME\">Maine</option><option value=\"MD\">Maryland</option><option value=\"MA\">Massachusetts</option><option value=\"MI\">Michigan</option><option value=\"MN\">Minnesota</option><option value=\"MS\">Mississippi</option><option value=\"MO\">Missouri</option><option value=\"MT\">Montana</option><option value=\"NE\">Nebraska</option><option value=\"NV\">Nevada</option><option value=\"NH\">New Hampshire</option><option value=\"NJ\">New Jersey</option><option value=\"NM\">New Mexico</option><option value=\"NY\">New York</option><option value=\"NC\">North Carolina</option><option value=\"ND\">North Dakota</option><option value=\"MP\">Northern Mariana Islands</option><option value=\"OH\">Ohio</option><option value=\"OK\">Oklahoma</option><option value=\"OR\">Oregon</option><option value=\"PA\">Pennsylvania</option><option value=\"PR\">Puerto Rico</option><option value=\"RI\">Rhode Island</option><option value=\"SC\">South Carolina</option><option value=\"SD\">South Dakota</option><option value=\"TN\">Tennessee</option><option value=\"TX\">Texas</option><option value=\"VI\">US Virgin Islands</option><option value=\"UT\">Utah</option><option value=\"VT\">Vermont</option><option value=\"VA\">Virginia</option><option value=\"WA\">Washington</option><option value=\"DC\">Washington DC</option><option value=\"WV\">West Virginia</option><option value=\"WI\">Wisconsin</option><option value=\"WY\">Wyoming</option></select><img alt=\"\" class=\"absolute top-1/2 left-4 my-reset transform -translate-y-1/2 w-3 h-full object-contain\" src=\"/pin.svg\"/></div></div><button class=\"relative select-none cursor-pointer inline-grid gap-x-2 grid-flow-col items-center justify-center text-center text-sm font-heading transition-colors focus:outline-none outline-none cursor-pointer leading-none border rounded-md min-h-50 py-3 px-6 from-lilac-300 to-green hover:from-green hover:to-green border-none bg-gradient-to-tr hover:bg-green hover:text-black\" type=\"submit\"><span class=\"transition-opacity\">Get started</span><span aria-hidden=\"true\" class=\"pointer-events-none transition-opacity absolute transform -translate-y-1/2 inset-1/2 -translate-x-1/2 h-5 w-5 opacity-0\"><div class=\"lds-ring\"><div></div><div></div><div></div><div></div></div></span></button></form></section></div><figure class=\"relative overflow-hidden order-first md:order-none hidden md:block self-end not-prose md:!-mt-24 md:!-mb-10 max-w-64 justify-self-end\"><img alt=\"\" class=\"w-full h-auto\" height=\"100%\" loading=\"lazy\" src=\"https://admin.leafwell.com/app/uploads/2021/10/hand-card-homepng.png\" srcset=\"https://b2628119.smushcdn.com/2628119/app/uploads/2021/10/hand-card-homepng.png?size=384x476&amp;lossy=1&amp;strip=1&amp;webp=1 384w, https://b2628119.smushcdn.com/2628119/app/uploads/2021/10/hand-card-homepng-484x600.png?lossy=1&amp;strip=1&amp;webp=1 484w, https://b2628119.smushcdn.com/2628119/app/uploads/2021/10/hand-card-homepng.png?lossy=1&amp;strip=1&amp;webp=1 508w\" width=\"100%\"/></figure></article></section>]\n"
     ]
    }
   ],
   "source": [
    "print(\"Found elements: \", len(elements), \"\\n\\n\")\n",
    "pprint(elements)"
   ]
  },
  {
   "cell_type": "code",
   "execution_count": 16,
   "metadata": {},
   "outputs": [
    {
     "name": "stdout",
     "output_type": "stream",
     "text": [
      "test\n",
      "test2\n"
     ]
    }
   ],
   "source": [
    "from time import sleep\n",
    "\n",
    "print(\"test\")\n",
    "sleep(2)\n",
    "print(\"test2\")"
   ]
  }
 ],
 "metadata": {
  "kernelspec": {
   "display_name": "Python 3",
   "language": "python",
   "name": "python3"
  },
  "language_info": {
   "codemirror_mode": {
    "name": "ipython",
    "version": 3
   },
   "file_extension": ".py",
   "mimetype": "text/x-python",
   "name": "python",
   "nbconvert_exporter": "python",
   "pygments_lexer": "ipython3",
   "version": "3.11.3"
  },
  "orig_nbformat": 4
 },
 "nbformat": 4,
 "nbformat_minor": 2
}
