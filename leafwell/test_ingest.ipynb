{
 "cells": [
  {
   "cell_type": "code",
   "execution_count": 13,
   "metadata": {},
   "outputs": [],
   "source": [
    "import requests\n",
    "from bs4 import BeautifulSoup\n",
    "\n",
    "from pprint import pprint"
   ]
  },
  {
   "cell_type": "code",
   "execution_count": null,
   "metadata": {},
   "outputs": [],
   "source": [
    "url = \"https://leafwell.com/blog/\"  # replace with your url\n",
    "\n",
    "links = []\n",
    "visited = []\n",
    "def crawl(url):\n",
    "    visited.append(url)\n",
    "    response = requests.get(url)\n",
    "    soup = BeautifulSoup(response.content, 'html.parser')\n",
    "    text = ' '.join(tag.get_text() for tag in soup.find_all(True))\n",
    "    for tag in soup.find_all(True):\n",
    "        #if the tag is a button or a link, add to links list\n",
    "        if tag.name == 'a':\n",
    "            if tag.get('href') not in visited:\n",
    "                links.append(tag.get('href'))"
   ]
  },
  {
   "cell_type": "code",
   "execution_count": 14,
   "metadata": {},
   "outputs": [
    {
     "name": "stdout",
     "output_type": "stream",
     "text": [
      "['/',\n",
      " '/research/',\n",
      " '/medical-conditions/',\n",
      " '/research/dashboard/',\n",
      " '/cannabis-marijuana-laws/',\n",
      " 'https://leafwell.com/research/',\n",
      " 'https://leafwell.com/join-study/',\n",
      " '/blog/',\n",
      " '/blog/category/cannabis-science/',\n",
      " '/blog/category/medical-marijuana-card/',\n",
      " '/blog/category/cannabis-plants/',\n",
      " '/blog/category/cannabis-news/',\n",
      " '/blog/category/cannabis-products/',\n",
      " '/blog/category/health-wellness/',\n",
      " 'https://leafwell.com/reviews/',\n",
      " '/partner-with-leafwell/',\n",
      " '/about/',\n",
      " '/careers/',\n",
      " 'https://medicalcard.io/patients/login',\n",
      " '',\n",
      " None,\n",
      " '/es/blog-es/',\n",
      " '/blog/category/cannabis-research/',\n",
      " '/blog/category/patient-stories/',\n",
      " '/blog/ozempic-and-weed/',\n",
      " '/blog/authors/melissa-campbell/',\n",
      " '/blog/saxenda-and-weed/',\n",
      " '/blog/wegovy-and-weed/',\n",
      " '/blog/weed-and-trulicity/',\n",
      " '/blog/is-marijuana-legal-in-taiwan/',\n",
      " '/blog/is-marijuana-legal-in-iran/',\n",
      " '/blog/is-marijuana-legal-in-syria/',\n",
      " '/blog/is-marijuana-legal-in-sudan/',\n",
      " '/blog/is-marijuana-legal-in-hong-kong/',\n",
      " '/blog/is-marijuana-legal-in-china/',\n",
      " '/contact-us/',\n",
      " '/reviews/',\n",
      " '/find-a-partner/',\n",
      " '/cookie-policy/',\n",
      " '/privacy-policy/',\n",
      " 'https://medicalcard.leafwell.com/ca/verify',\n",
      " 'https://faq.leafwell.com/knowledge',\n",
      " 'https://www.instagram.com/leafwell_official/',\n",
      " 'https://www.youtube.com/@leafwell/',\n",
      " 'https://www.facebook.com/leafwellofficial/',\n",
      " 'https://www.linkedin.com/company/leafwellofficial/',\n",
      " 'https://twitter.com/_Leafwell_']\n"
     ]
    }
   ],
   "source": [
    "pprint(links)"
   ]
  },
  {
   "cell_type": "code",
   "execution_count": null,
   "metadata": {},
   "outputs": [],
   "source": [
    "# print the cleaned text\n",
    "print(len(text))\n",
    "print(text)"
   ]
  }
 ],
 "metadata": {
  "kernelspec": {
   "display_name": "Python 3",
   "language": "python",
   "name": "python3"
  },
  "language_info": {
   "codemirror_mode": {
    "name": "ipython",
    "version": 3
   },
   "file_extension": ".py",
   "mimetype": "text/x-python",
   "name": "python",
   "nbconvert_exporter": "python",
   "pygments_lexer": "ipython3",
   "version": "3.11.3"
  },
  "orig_nbformat": 4
 },
 "nbformat": 4,
 "nbformat_minor": 2
}
